{
  "cells": [
    {
      "cell_type": "code",
      "execution_count": 1,
      "metadata": {
        "id": "8vLelwEYHUPE"
      },
      "outputs": [],
      "source": [
        "import pandas as pd\n",
        "import matplotlib.pyplot as plt\n",
        "import numpy as np\n",
        "import warnings\n",
        "warnings.filterwarnings(\"ignore\")"
      ]
    },
    {
      "cell_type": "code",
      "execution_count": 2,
      "metadata": {
        "id": "iHFseRtOQR_W"
      },
      "outputs": [],
      "source": [
        "def replacer_ctype(text):\n",
        "  if text=='GENERAL' or text=='general' or text=='Gen':\n",
        "    return 'GEN'\n",
        "  elif text=='sc':\n",
        "    return 'SC'\n",
        "  elif text=='st':\n",
        "    return 'ST'\n",
        "  else:\n",
        "    return text\n",
        "\n",
        "def replacer_sex(text):\n",
        "  if text=='MALE' or text=='male':\n",
        "    return 'M'\n",
        "  elif text=='FEMALE' or text=='female':\n",
        "    return 'F'\n",
        "  else:\n",
        "    return text"
      ]
    },
    {
      "cell_type": "markdown",
      "metadata": {
        "id": "SHh3REeMHcPR"
      },
      "source": [
        "**Model for Classification: SVM**\n",
        "\n",
        "I am using a aSupport Vector Machine for predicting whether a certain set of parameters ensures that a particular candidate will win or not.\n",
        "\n",
        "These are some of the additional data cleaning steps followed:\n",
        "1. Classifying the states on the basis of regions (https://en.wikipedia.org/wiki/Zonal_Councils_of_India) to ensure that dimensions do not become very high\n",
        "2. Rather than predicting the position, I am predicting win or loss\n",
        "3. One Hot Encoding for states and parties and Ordinal encoding for the other featues\n",
        "4. Classifying parties on the basis of the number of candidates they have fielded. This is also done to reduce the dimensionality\n"
      ]
    },
    {
      "cell_type": "code",
      "execution_count": 3,
      "metadata": {
        "id": "9IrjUVG50LuC"
      },
      "outputs": [],
      "source": [
        "def party_classify(party, freq, num):\n",
        "  if freq[party]<=num:\n",
        "    return 'other'\n",
        "  else:\n",
        "    return party\n",
        "\n",
        "def party_formatter(text):\n",
        "  arr= text.split()\n",
        "  if len(arr)==1:\n",
        "      return text.lower()\n",
        "  else:\n",
        "    string= \"\"\n",
        "    for word in arr:\n",
        "      string+= word[0]\n",
        "    return string.lower()\n",
        "\n",
        "def outcomes(num):\n",
        "  if num==1:\n",
        "    return 1\n",
        "  else:\n",
        "    return 0\n",
        "\n",
        "def find_state_region(state):\n",
        "    # Define the lists\n",
        "    regions = {\n",
        "        'North': ['Chandigarh', 'Delhi', 'Haryana', 'Himachal_Pradesh', 'Jammu_&_Kashmir', 'Punjab', 'Rajasthan'],\n",
        "        'South': ['Andaman_&_Nicobar_Islands', 'Andhra_Pradesh', 'Karnataka', 'Kerala', 'Puducherry', 'Tamil_Nadu', 'Telangana', 'Lakshadweep'],\n",
        "        'Central': ['Chhattisgarh', 'Madhya_Pradesh', 'Uttar_Pradesh', 'Uttarakhand'],\n",
        "        'East': ['Bihar', 'Jharkhand', 'Odisha', 'West_Bengal'],\n",
        "        'West': ['Dadra_&_Nagar_Haveli', 'Daman_&_Diu', 'Goa', 'Gujarat', 'Maharashtra'],\n",
        "        'Northeast': ['Arunachal_Pradesh', 'Sikkim', 'Nagaland', 'Manipur', 'Mizoram', 'Tripura', 'Assam', 'Meghalaya']\n",
        "    }\n",
        "\n",
        "    # Check the state in each region\n",
        "    for region, states in regions.items():\n",
        "        if state in states:\n",
        "            return region\n",
        "    return None"
      ]
    },
    {
      "cell_type": "code",
      "execution_count": 4,
      "metadata": {
        "colab": {
          "base_uri": "https://localhost:8080/"
        },
        "id": "mni6M-HbPRfv",
        "outputId": "f44e9786-281d-49f1-c731-0c174d825c84"
      },
      "outputs": [],
      "source": [
        "#Data Cleaning\n",
        "\n",
        "df_root= pd.read_csv(\"All_States_GE.csv\")\n",
        "df= df_root[((df_root['Year']==2019) | (df_root['Year']==2014) |(df_root['Year']==2009))]\n",
        "df2 = df.drop(['Assembly_No', 'Constituency_No', 'Year', 'month', 'Poll_No', 'DelimID',\n",
        "               'Valid_Votes', 'Electors', 'Sub_Region', 'N_Cand', 'Turnout_Percentage',\n",
        "               'Margin', 'ENOP', 'pid', 'Party_ID', 'last_poll', 'Contested', 'Last_Party',\n",
        "               'Last_Party_ID', 'Last_Constituency_Name', 'Same_Constituency', 'Same_Party',\n",
        "               'No_Terms', 'TCPD_Prof_Main_Desc', 'TCPD_Prof_Second', 'TCPD_Prof_Second_Desc',\n",
        "               'Election_Type', 'Deposit_Lost', 'Votes'], axis=1)\n",
        "nota_df = df2[(df2['Candidate'] == 'NOTA') | (df2['Candidate'] == 'None of the Above')]\n",
        "df3 = df2[(df2['Candidate'] != 'NOTA') & (df2['Candidate'] != 'None of the Above')]\n",
        "df3['Candidate_Type'].fillna('GEN', inplace=True)\n",
        "df4= df3.copy(deep=True)\n",
        "df4['ctype']= df3['Candidate_Type'].apply(lambda x: replacer_ctype(str(x)))\n",
        "df4['sex']= df3['Sex'].apply(lambda x: replacer_sex(str(x)))\n",
        "df5= df4.drop(['Sex', 'Candidate_Type'], axis=1)\n",
        "df6= df5[df5['sex']!='nan']"
      ]
    },
    {
      "cell_type": "code",
      "execution_count": 5,
      "metadata": {
        "id": "gNZuKkhEphTG"
      },
      "outputs": [],
      "source": [
        "ml_df= df6.drop(['Candidate', 'Constituency_Name', 'Vote_Share_Percentage', 'Margin_Percentage',\n",
        "       'Party_Type_TCPD', 'MyNeta_education', 'TCPD_Prof_Main'], axis=1)\n",
        "\n",
        "ml_df2= ml_df.copy(deep=True)\n",
        "ml_df2['party']=ml_df['Party'].apply(lambda x: party_formatter(str(x)))\n",
        "ml_df2['outcome']=ml_df['Position'].apply(lambda x: outcomes(x))\n",
        "ml_df2['region']=ml_df['State_Name'].apply(lambda x: find_state_region(x))\n",
        "\n",
        "ml_df3= ml_df2.drop(['Party', 'Position', 'State_Name'], axis=1)\n",
        "\n",
        "arr3 = ml_df3['party'].tolist()\n",
        "\n",
        "party_count = {}\n",
        "\n",
        "for party in arr3:\n",
        "    if party not in party_count:\n",
        "        party_count[party] = 1\n",
        "    else:\n",
        "        party_count[party] += 1\n",
        "\n",
        "ml_df3['party_name']= ml_df3['party'].apply(lambda x: party_classify(str(x), party_count, 20))\n",
        "ml_df4= ml_df3.drop(['party'], axis=1)"
      ]
    },
    {
      "cell_type": "code",
      "execution_count": 6,
      "metadata": {
        "id": "dYSJY1XPC27Q"
      },
      "outputs": [],
      "source": [
        "from sklearn.preprocessing import LabelEncoder\n",
        "from sklearn.model_selection import train_test_split\n",
        "from sklearn.svm import SVC\n",
        "from sklearn.metrics import accuracy_score\n",
        "\n",
        "ml_df5 = ml_df4.copy(deep=True)\n",
        "ordinal_encode_columns = ['Constituency_Type', 'ctype', 'sex', 'region']\n",
        "label_encoder = LabelEncoder()\n",
        "for col in ordinal_encode_columns:\n",
        "    ml_df5[col] = label_encoder.fit_transform(ml_df5[col])\n",
        "ml_df5 = pd.get_dummies(ml_df5, columns=['party_name'])"
      ]
    },
    {
      "cell_type": "code",
      "execution_count": 7,
      "metadata": {
        "colab": {
          "base_uri": "https://localhost:8080/"
        },
        "id": "hTQhX76DE3Ko",
        "outputId": "043a39b9-d300-43a3-e4f6-faab4692145d"
      },
      "outputs": [
        {
          "name": "stdout",
          "output_type": "stream",
          "text": [
            "Accuracy: 0.9500307188203972\n"
          ]
        }
      ],
      "source": [
        "X = ml_df5.drop('outcome', axis=1)\n",
        "y = ml_df5['outcome']\n",
        "\n",
        "X_train, X_test, y_train, y_test = train_test_split(X, y, test_size=0.2, random_state=42)\n",
        "\n",
        "svm_model = SVC(kernel='rbf', C=10)\n",
        "svm_model.fit(X_train, y_train)\n",
        "\n",
        "y_pred = svm_model.predict(X_test)\n",
        "accuracy = accuracy_score(y_test, y_pred)\n",
        "print(\"Accuracy:\", accuracy)"
      ]
    },
    {
      "cell_type": "code",
      "execution_count": 8,
      "metadata": {
        "colab": {
          "base_uri": "https://localhost:8080/"
        },
        "id": "kYpjYrU-I4w5",
        "outputId": "6323ec66-3437-4c30-c6de-9edb75a97393"
      },
      "outputs": [
        {
          "name": "stdout",
          "output_type": "stream",
          "text": [
            "Constituency_Type\n",
            "Turncoat\n",
            "Incumbent\n",
            "Recontest\n",
            "ctype\n",
            "sex\n",
            "region\n",
            "party_name_aaap\n",
            "party_name_aapp\n",
            "party_name_abhm\n",
            "party_name_ad\n",
            "party_name_admk\n",
            "party_name_agp\n",
            "party_name_aifb\n",
            "party_name_aitc\n",
            "party_name_aiudf\n",
            "party_name_amb\n",
            "party_name_anc\n",
            "party_name_apoi\n",
            "party_name_asp\n",
            "party_name_audf\n",
            "party_name_baresp\n",
            "party_name_bbm\n",
            "party_name_bhaprap\n",
            "party_name_bjd\n",
            "party_name_bjp\n",
            "party_name_bmup\n",
            "party_name_bscp\n",
            "party_name_bsp\n",
            "party_name_cpi\n",
            "party_name_cpi(ml)(l)\n",
            "party_name_cpim\n",
            "party_name_cpm\n",
            "party_name_dmdk\n",
            "party_name_dmk\n",
            "party_name_ggp\n",
            "party_name_hjp\n",
            "party_name_hnd\n",
            "party_name_ijp\n",
            "party_name_inc\n",
            "party_name_ind\n",
            "party_name_inld\n",
            "party_name_iuml\n",
            "party_name_jaspa\n",
            "party_name_jd(s)\n",
            "party_name_jd(u)\n",
            "party_name_jdp\n",
            "party_name_jgp\n",
            "party_name_jknpp\n",
            "party_name_jmbp\n",
            "party_name_jmm\n",
            "party_name_jnp\n",
            "party_name_jps\n",
            "party_name_jvm\n",
            "party_name_kkjhs\n",
            "party_name_ld\n",
            "party_name_ljp\n",
            "party_name_lsp\n",
            "party_name_ltsd\n",
            "party_name_madp\n",
            "party_name_mnm\n",
            "party_name_mns\n",
            "party_name_nap\n",
            "party_name_ncp\n",
            "party_name_ntk\n",
            "party_name_other\n",
            "party_name_pecp\n",
            "party_name_pmk\n",
            "party_name_ppid\n",
            "party_name_ppoi\n",
            "party_name_prap\n",
            "party_name_prcp\n",
            "party_name_pspl\n",
            "party_name_rdmp\n",
            "party_name_rjd\n",
            "party_name_rksp\n",
            "party_name_rld\n",
            "party_name_rpi\n",
            "party_name_rpi(a)\n",
            "party_name_rsmd\n",
            "party_name_rsp\n",
            "party_name_rsps\n",
            "party_name_rws\n",
            "party_name_sad\n",
            "party_name_sap\n",
            "party_name_sbsp\n",
            "party_name_sdpi\n",
            "party_name_shs\n",
            "party_name_sjp(r)\n",
            "party_name_sp\n",
            "party_name_suci\n",
            "party_name_suci(c)\n",
            "party_name_tdp\n",
            "party_name_trs\n",
            "party_name_upjp\n",
            "party_name_vba\n",
            "party_name_wpoi\n",
            "party_name_ysrcp\n"
          ]
        }
      ],
      "source": [
        "arr= X.columns\n",
        "for item in arr:\n",
        "  print(item)"
      ]
    },
    {
      "cell_type": "markdown",
      "metadata": {},
      "source": [
        "Mapping for column 'Constituency_Type':\n",
        "GEN -> 0\n",
        "SC -> 1\n",
        "ST -> 2\n",
        "\n",
        "Mapping for column 'ctype':\n",
        "GEN -> 0\n",
        "SC -> 1\n",
        "ST -> 2\n",
        "\n",
        "Mapping for column 'sex':\n",
        "F -> 0\n",
        "M -> 1\n",
        "O -> 2\n",
        "\n",
        "Mapping for column 'region':\n",
        "Central -> 0\n",
        "East -> 1\n",
        "North -> 2\n",
        "Northeast -> 3\n",
        "South -> 4\n",
        "West -> 5\n"
      ]
    },
    {
      "cell_type": "code",
      "execution_count": 9,
      "metadata": {
        "colab": {
          "base_uri": "https://localhost:8080/",
          "height": 235
        },
        "id": "qiUtAiCNSeo3",
        "outputId": "105862c7-6920-4188-9644-50402c4f968f"
      },
      "outputs": [],
      "source": [
        "import pandas as pd\n",
        "\n",
        "def encode_party_name(Constituency_Type, Turncoat, Incumbent, Recontest, ctype, sex, region, party_name):\n",
        "    # Create a dictionary with all party names and initialize them with 0\n",
        "    arr= []\n",
        "    if Constituency_Type=='GEN':\n",
        "        arr.append(0)\n",
        "    elif Constituency_Type=='SC':\n",
        "        arr.append(1)\n",
        "    else:\n",
        "        arr.append(2)\n",
        "    \n",
        "    if Turncoat==True:\n",
        "        arr.append(1)\n",
        "    else:\n",
        "        arr.append(0)\n",
        "    \n",
        "    if Incumbent==True:\n",
        "        arr.append(1)\n",
        "    else:\n",
        "        arr.append(0)\n",
        "    \n",
        "    if Recontest==True:\n",
        "        arr.append(1)\n",
        "    else:\n",
        "        arr.append(0)\n",
        "    \n",
        "    if ctype=='GEN':\n",
        "        arr.append(0)\n",
        "    elif ctype=='SC':\n",
        "        arr.append(1)\n",
        "    else:\n",
        "        arr.append(2)\n",
        "    \n",
        "    if sex=='F':\n",
        "        arr.append(0)\n",
        "    elif sex=='M':\n",
        "        arr.append(1)\n",
        "    else:\n",
        "        arr.append(2)\n",
        "\n",
        "    if region=='Central':\n",
        "        arr.append(0)\n",
        "    elif region=='East':\n",
        "        arr.append(1)\n",
        "    elif region=='North':\n",
        "        arr.append(1)\n",
        "    elif region=='Northeast':\n",
        "        arr.append(1)\n",
        "    elif region=='South':\n",
        "        arr.append(1)\n",
        "    else:\n",
        "        arr.append(1)\n",
        "\n",
        "    # print(arr)\n",
        "\n",
        "    party_names = [\n",
        "        'aaap', 'aapp', 'abhm', 'ad', 'admk', 'agp', 'aifb', 'aitc', 'aiudf', 'amb', 'anc', 'apoi',\n",
        "        'asp', 'audf', 'baresp', 'bbm', 'bhaprap', 'bjd', 'bjp', 'bmup', 'bscp', 'bsp', 'cpi', 'cpi(ml)(l)',\n",
        "        'cpim', 'cpm', 'dmdk', 'dmk', 'ggp', 'hjp', 'hnd', 'ijp', 'inc', 'ind', 'inld', 'iuml', 'jaspa',\n",
        "        'jd(s)', 'jd(u)', 'jdp', 'jgp', 'jknpp', 'jmbp', 'jmm', 'jnp', 'jps', 'jvm', 'kkjhs', 'ld', 'ljp',\n",
        "        'lsp', 'ltsd', 'madp', 'mnm', 'mns', 'nap', 'ncp', 'ntk', 'other', 'pecp', 'pmk', 'ppid', 'ppoi',\n",
        "        'prap', 'prcp', 'pspl', 'rdmp', 'rjd', 'rksp', 'rld', 'rpi', 'rpi(a)', 'rsmd', 'rsp', 'rsps', 'rws',\n",
        "        'sad', 'sap', 'sbsp', 'sdpi', 'shs', 'sjp(r)', 'sp', 'suci', 'suci(c)', 'tdp', 'trs', 'upjp', 'vba',\n",
        "        'wpoi', 'ysrcp'\n",
        "    ]\n",
        "    party_name_dict = {name: 0 for name in party_names}\n",
        "\n",
        "    # Set the specified party name to 1\n",
        "    party_name_dict[party_name] = 1\n",
        "\n",
        "    # Create a DataFrame from the dictionary and transpose it to get the one-hot encoded array\n",
        "    party_name_array = pd.DataFrame([party_name_dict]).T.values.flatten()\n",
        "    encoded_array = arr + party_name_array.tolist()\n",
        "\n",
        "\n",
        "    return encoded_array"
      ]
    },
    {
      "cell_type": "code",
      "execution_count": 10,
      "metadata": {},
      "outputs": [
        {
          "data": {
            "text/plain": [
              "array([0], dtype=int64)"
            ]
          },
          "execution_count": 10,
          "metadata": {},
          "output_type": "execute_result"
        }
      ],
      "source": [
        "encoded_party = encode_party_name('SC', True, False, False, 'SC', 'O', 'South', 'bjp')\n",
        "svm_model.predict([encoded_party])"
      ]
    },
    {
      "cell_type": "markdown",
      "metadata": {},
      "source": [
        "**Observation 1:**\n",
        "\n",
        "Checking impact of BJP in South India, we will generate combinations of other parameters and check the outcome.  "
      ]
    },
    {
      "cell_type": "code",
      "execution_count": 11,
      "metadata": {},
      "outputs": [
        {
          "data": {
            "image/png": "[encoded data removed]",
            "text/plain": [
              "<Figure size 1200x600 with 1 Axes>"
            ]
          },
          "metadata": {},
          "output_type": "display_data"
        },
        {
          "name": "stdout",
          "output_type": "stream",
          "text": [
            "('GEN', True, True, True, 'GEN', 'F')\n",
            "('GEN', True, True, True, 'GEN', 'M')\n",
            "('GEN', True, True, True, 'GEN', 'O')\n",
            "('GEN', True, True, True, 'SC', 'F')\n",
            "('GEN', True, True, True, 'SC', 'M')\n",
            "('GEN', True, True, True, 'SC', 'O')\n",
            "('GEN', True, True, True, 'ST', 'F')\n",
            "('GEN', True, True, True, 'ST', 'M')\n",
            "('GEN', True, True, True, 'ST', 'O')\n",
            "('GEN', True, True, False, 'GEN', 'F')\n",
            "('GEN', True, True, False, 'GEN', 'M')\n",
            "('GEN', True, True, False, 'GEN', 'O')\n",
            "('GEN', True, True, False, 'SC', 'F')\n",
            "('GEN', True, True, False, 'SC', 'M')\n",
            "('GEN', True, True, False, 'SC', 'O')\n",
            "('GEN', True, True, False, 'ST', 'F')\n",
            "('GEN', True, True, False, 'ST', 'M')\n",
            "('GEN', True, True, False, 'ST', 'O')\n",
            "('GEN', True, False, True, 'SC', 'F')\n",
            "('GEN', True, False, True, 'SC', 'M')\n",
            "('GEN', True, False, True, 'ST', 'F')\n",
            "('GEN', True, False, True, 'ST', 'M')\n",
            "('GEN', True, False, True, 'ST', 'O')\n",
            "('GEN', True, False, False, 'ST', 'F')\n",
            "('GEN', True, False, False, 'ST', 'M')\n",
            "('GEN', True, False, False, 'ST', 'O')\n",
            "('GEN', False, True, True, 'GEN', 'F')\n",
            "('GEN', False, True, True, 'GEN', 'M')\n",
            "('GEN', False, True, True, 'GEN', 'O')\n",
            "('GEN', False, True, True, 'SC', 'F')\n",
            "('GEN', False, True, True, 'SC', 'M')\n",
            "('GEN', False, True, True, 'SC', 'O')\n",
            "('GEN', False, True, True, 'ST', 'F')\n",
            "('GEN', False, True, True, 'ST', 'M')\n",
            "('GEN', False, True, True, 'ST', 'O')\n",
            "('GEN', False, True, False, 'GEN', 'F')\n",
            "('GEN', False, True, False, 'GEN', 'M')\n",
            "('GEN', False, True, False, 'GEN', 'O')\n",
            "('GEN', False, True, False, 'SC', 'F')\n",
            "('GEN', False, True, False, 'SC', 'M')\n",
            "('GEN', False, True, False, 'SC', 'O')\n",
            "('GEN', False, True, False, 'ST', 'F')\n",
            "('GEN', False, True, False, 'ST', 'M')\n",
            "('GEN', False, True, False, 'ST', 'O')\n",
            "('GEN', False, False, True, 'SC', 'F')\n",
            "('GEN', False, False, True, 'ST', 'F')\n",
            "('GEN', False, False, True, 'ST', 'M')\n",
            "('GEN', False, False, True, 'ST', 'O')\n",
            "('GEN', False, False, False, 'ST', 'F')\n",
            "('GEN', False, False, False, 'ST', 'M')\n",
            "('GEN', False, False, False, 'ST', 'O')\n",
            "('SC', True, True, True, 'GEN', 'F')\n",
            "('SC', True, True, True, 'GEN', 'M')\n",
            "('SC', True, True, True, 'GEN', 'O')\n",
            "('SC', True, True, True, 'SC', 'F')\n",
            "('SC', True, True, True, 'SC', 'M')\n",
            "('SC', True, True, True, 'SC', 'O')\n",
            "('SC', True, True, True, 'ST', 'F')\n",
            "('SC', True, True, True, 'ST', 'M')\n",
            "('SC', True, True, True, 'ST', 'O')\n",
            "('SC', True, True, False, 'GEN', 'F')\n",
            "('SC', True, True, False, 'GEN', 'M')\n",
            "('SC', True, True, False, 'GEN', 'O')\n",
            "('SC', True, True, False, 'SC', 'F')\n",
            "('SC', True, True, False, 'SC', 'M')\n",
            "('SC', True, True, False, 'SC', 'O')\n",
            "('SC', True, True, False, 'ST', 'F')\n",
            "('SC', True, True, False, 'ST', 'M')\n",
            "('SC', True, True, False, 'ST', 'O')\n",
            "('SC', True, False, True, 'ST', 'F')\n",
            "('SC', True, False, False, 'ST', 'F')\n",
            "('SC', False, True, True, 'GEN', 'F')\n",
            "('SC', False, True, True, 'GEN', 'M')\n",
            "('SC', False, True, True, 'GEN', 'O')\n",
            "('SC', False, True, True, 'SC', 'F')\n",
            "('SC', False, True, True, 'SC', 'M')\n",
            "('SC', False, True, True, 'SC', 'O')\n",
            "('SC', False, True, True, 'ST', 'F')\n",
            "('SC', False, True, True, 'ST', 'M')\n",
            "('SC', False, True, True, 'ST', 'O')\n",
            "('SC', False, True, False, 'GEN', 'F')\n",
            "('SC', False, True, False, 'GEN', 'M')\n",
            "('SC', False, True, False, 'GEN', 'O')\n",
            "('SC', False, True, False, 'SC', 'F')\n",
            "('SC', False, True, False, 'SC', 'M')\n",
            "('SC', False, True, False, 'SC', 'O')\n",
            "('SC', False, True, False, 'ST', 'F')\n",
            "('SC', False, True, False, 'ST', 'M')\n",
            "('SC', False, True, False, 'ST', 'O')\n",
            "('SC', False, False, True, 'ST', 'F')\n",
            "('SC', False, False, True, 'ST', 'M')\n",
            "('SC', False, False, False, 'ST', 'F')\n",
            "('SC', False, False, False, 'ST', 'M')\n",
            "('ST', True, True, True, 'ST', 'F')\n",
            "('ST', True, True, False, 'ST', 'F')\n",
            "('ST', True, True, False, 'ST', 'M')\n",
            "('ST', False, True, True, 'SC', 'F')\n",
            "('ST', False, True, True, 'SC', 'M')\n",
            "('ST', False, True, True, 'ST', 'F')\n",
            "('ST', False, True, True, 'ST', 'M')\n",
            "('ST', False, True, True, 'ST', 'O')\n",
            "('ST', False, True, False, 'SC', 'F')\n",
            "('ST', False, True, False, 'SC', 'M')\n",
            "('ST', False, True, False, 'ST', 'F')\n",
            "('ST', False, True, False, 'ST', 'M')\n",
            "('ST', False, True, False, 'ST', 'O')\n",
            "('ST', False, False, False, 'ST', 'F')\n"
          ]
        }
      ],
      "source": [
        "import itertools\n",
        "\n",
        "Constituency_Type_values = ['GEN', 'SC', 'ST']\n",
        "Turncoat_values = [True, False]\n",
        "Incumbent_values = [True, False]\n",
        "Recontest_values = [True, False]\n",
        "ctype_values = ['GEN', 'SC', 'ST']\n",
        "sex_values = ['F', 'M', 'O']\n",
        "national_parties= ['bjp','bsp','aitc','ncp','cpi','cpim','inc']\n",
        "regions=['North','East','Northeast','South','West','Central']\n",
        "\n",
        "combinations = itertools.product(\n",
        "    Constituency_Type_values, Turncoat_values, Incumbent_values, Recontest_values,\n",
        "    ctype_values, sex_values\n",
        ")\n",
        "\n",
        "outcomes = []\n",
        "labels = []\n",
        "pos_come= []\n",
        "# Loop through each combination, encode the party_name, and predict the outcome\n",
        "for comb in combinations:\n",
        "    encoded_party = encode_party_name(*comb, 'South', 'bjp')\n",
        "    outcome = svm_model.predict([encoded_party])\n",
        "    outcomes.append(outcome)\n",
        "    labels.append(str(comb))\n",
        "    if outcome==1:\n",
        "        pos_come.append(comb)\n",
        "\n",
        "# Convert the outcomes and labels lists into numpy arrays for plotting\n",
        "outcomes = np.array(outcomes).flatten()\n",
        "labels = np.array(labels)\n",
        "\n",
        "# Plot the outcomes\n",
        "plt.figure(figsize=(12, 6))\n",
        "plt.bar(labels, outcomes)\n",
        "plt.xticks(rotation=90, fontsize=3)\n",
        "plt.xlabel('Parameter Combinations')\n",
        "plt.ylabel('Predicted Outcome')\n",
        "plt.title('Predicted Outcome for Different Parameter Combinations')\n",
        "plt.show()\n",
        "\n",
        "for utem in pos_come:\n",
        "    print(utem)"
      ]
    },
    {
      "cell_type": "code",
      "execution_count": 12,
      "metadata": {},
      "outputs": [
        {
          "name": "stdout",
          "output_type": "stream",
          "text": [
            "0.794392523364486\n"
          ]
        }
      ],
      "source": [
        "count=0\n",
        "tlen= len(pos_come)\n",
        "for item in pos_come:\n",
        "    if item[2]==True:\n",
        "        count+=1\n",
        "print(count/tlen)"
      ]
    },
    {
      "cell_type": "code",
      "execution_count": 13,
      "metadata": {},
      "outputs": [
        {
          "name": "stdout",
          "output_type": "stream",
          "text": [
            "('GEN', True, False, True, 'SC', 'F')\n",
            "('GEN', True, False, True, 'SC', 'M')\n",
            "('GEN', True, False, True, 'ST', 'F')\n",
            "('GEN', True, False, True, 'ST', 'M')\n",
            "('GEN', True, False, True, 'ST', 'O')\n",
            "('GEN', True, False, False, 'ST', 'F')\n",
            "('GEN', True, False, False, 'ST', 'M')\n",
            "('GEN', True, False, False, 'ST', 'O')\n",
            "('GEN', False, False, True, 'SC', 'F')\n",
            "('GEN', False, False, True, 'ST', 'F')\n",
            "('GEN', False, False, True, 'ST', 'M')\n",
            "('GEN', False, False, True, 'ST', 'O')\n",
            "('GEN', False, False, False, 'ST', 'F')\n",
            "('GEN', False, False, False, 'ST', 'M')\n",
            "('GEN', False, False, False, 'ST', 'O')\n",
            "('ST', False, False, False, 'ST', 'F')\n"
          ]
        }
      ],
      "source": [
        "#As we see, 80% of the outcome=1 BJP candidates from South India are incumbents\n",
        "for item in pos_come:\n",
        "    if item[2]==False:\n",
        "        if (item[0]=='SC' or item[0]=='ST') and (item[0]!=item[4]):\n",
        "            continue\n",
        "        else:\n",
        "            print(item)"
      ]
    },
    {
      "cell_type": "markdown",
      "metadata": {},
      "source": [
        "Based on EDA, we have seen that SC and ST candidates have rarely won General Seats so these outcome=1 candidates of BJP are realistically unprobable. Thus, majority of BJP's victories in South India are likely to be already incumbent candidates. "
      ]
    },
    {
      "cell_type": "markdown",
      "metadata": {},
      "source": [
        "**Observation 2:**\n",
        "In this observation of how women candidates perform in elections, we have narrowed our focus to national parties as of 2019 to streamline the computation process. From the analysis, it becomes evident that among the national parties, women candidates from BJP and AITC had a higher likelihood of winning, as indicated by the model.\n",
        "\n",
        "Furthermore, the distribution of women candidates across regions shows a nearly even spread, with 75 occurrences in the Central region and 62 occurrences in all other regions combined.\n",
        "\n",
        "However, the model reveals that the number of women candidates winning in ST (Scheduled Tribe) constituencies is the lowest compared to other regions."
      ]
    },
    {
      "cell_type": "code",
      "execution_count": 14,
      "metadata": {},
      "outputs": [],
      "source": [
        "combinations2= itertools.product(\n",
        "    Constituency_Type_values, Turncoat_values, Incumbent_values, Recontest_values,\n",
        "    ctype_values, ['F'], regions, national_parties \n",
        ")\n",
        "\n",
        "women_victory= []\n",
        "for comb2 in combinations2:\n",
        "    outcome2= svm_model.predict([encode_party_name(*comb2)])\n",
        "    if outcome2==1:\n",
        "        women_victory.append(comb2)"
      ]
    },
    {
      "cell_type": "code",
      "execution_count": 15,
      "metadata": {},
      "outputs": [
        {
          "name": "stdout",
          "output_type": "stream",
          "text": [
            "Counts for 0:\n",
            "GEN    162\n",
            "SC     142\n",
            "ST      70\n",
            "Name: 0, dtype: int64\n",
            "\n",
            "Counts for 1:\n",
            "False    223\n",
            "True     151\n",
            "Name: 1, dtype: int64\n",
            "\n",
            "Counts for 2:\n",
            "True     283\n",
            "False     91\n",
            "Name: 2, dtype: int64\n",
            "\n",
            "Counts for 3:\n",
            "True     207\n",
            "False    167\n",
            "Name: 3, dtype: int64\n",
            "\n",
            "Counts for 4:\n",
            "ST     155\n",
            "SC     116\n",
            "GEN    103\n",
            "Name: 4, dtype: int64\n",
            "\n",
            "Counts for 5:\n",
            "F    374\n",
            "Name: 5, dtype: int64\n",
            "\n",
            "Counts for 6:\n",
            "Central      79\n",
            "North        59\n",
            "East         59\n",
            "Northeast    59\n",
            "South        59\n",
            "West         59\n",
            "Name: 6, dtype: int64\n",
            "\n",
            "Counts for 7:\n",
            "bjp     277\n",
            "aitc     97\n",
            "Name: 7, dtype: int64\n",
            "\n"
          ]
        }
      ],
      "source": [
        "victdf= pd.DataFrame(women_victory)\n",
        "counts_dict = {}\n",
        "for column in victdf.columns:\n",
        "    counts_dict[column] = victdf[column].value_counts()\n",
        "\n",
        "for column, counts in counts_dict.items():\n",
        "    print(f\"Counts for {column}:\")\n",
        "    print(counts)\n",
        "    print()"
      ]
    },
    {
      "cell_type": "markdown",
      "metadata": {},
      "source": [
        "**Observation 3:**\n",
        "\n",
        "Turncoats are most succesful when they move to BJD, followed by BJP and AITC. "
      ]
    },
    {
      "cell_type": "code",
      "execution_count": 16,
      "metadata": {},
      "outputs": [],
      "source": [
        "all_parties= [\n",
        "    'aaap', 'aapp', 'abhm', 'ad', 'admk', 'agp', 'aifb', 'aitc', 'aiudf', 'amb', 'anc', 'apoi',\n",
        "    'asp', 'audf', 'baresp', 'bbm', 'bhaprap', 'bjd', 'bjp', 'bmup', 'bscp', 'bsp', 'cpi', 'cpi(ml)(l)',\n",
        "    'cpim', 'cpm', 'dmdk', 'dmk', 'ggp', 'hjp', 'hnd', 'ijp', 'inc', 'ind', 'inld', 'iuml', 'jaspa',\n",
        "    'jd(s)', 'jd(u)', 'jdp', 'jgp', 'jknpp', 'jmbp', 'jmm', 'jnp', 'jps', 'jvm', 'kkjhs', 'ld', 'ljp',\n",
        "    'lsp', 'ltsd', 'madp', 'mnm', 'mns', 'nap', 'ncp', 'ntk', 'other', 'pecp', 'pmk', 'ppid', 'ppoi',\n",
        "    'prap', 'prcp', 'pspl', 'rdmp', 'rjd', 'rksp', 'rld', 'rpi', 'rpi(a)', 'rsmd', 'rsp', 'rsps', 'rws',\n",
        "    'sad', 'sap', 'sbsp', 'sdpi', 'shs', 'sjp(r)', 'sp', 'suci', 'suci(c)', 'tdp', 'trs', 'upjp', 'vba',\n",
        "    'wpoi', 'ysrcp'\n",
        "]\n",
        "\n",
        "combinations3= itertools.product(\n",
        "    Constituency_Type_values, [True], Incumbent_values, Recontest_values,\n",
        "    ctype_values, sex_values, regions, all_parties \n",
        ")\n",
        "\n",
        "turncoat_victory= []\n",
        "for comb3 in combinations3:\n",
        "    outcome3= svm_model.predict([encode_party_name(*comb3)])\n",
        "    if outcome3==1:\n",
        "        turncoat_victory.append(comb3)"
      ]
    },
    {
      "cell_type": "code",
      "execution_count": 17,
      "metadata": {},
      "outputs": [
        {
          "data": {
            "image/png": "[encoded data removed]",
            "text/plain": [
              "<Figure size 640x480 with 1 Axes>"
            ]
          },
          "metadata": {},
          "output_type": "display_data"
        }
      ],
      "source": [
        "vict2df= pd.DataFrame(turncoat_victory)\n",
        "counts_dict = vict2df[7].value_counts().to_dict()\n",
        "plt.bar(counts_dict.keys(), counts_dict.values())\n",
        "plt.show()"
      ]
    },
    {
      "cell_type": "markdown",
      "metadata": {
        "id": "PtmsjzjxHAi5"
      },
      "source": [
        "This is the code used for optimising the hyperparameters:\n",
        "\n",
        "```\n",
        "from sklearn.model_selection import GridSearchCV\n",
        "from sklearn.metrics import make_scorer, f1_score\n",
        "from sklearn.svm import SVC\n",
        "\n",
        "svm_model = SVC()\n",
        "param_grid = {\n",
        "    'C': [0.1, 1, 10],    \n",
        "    'kernel': ['linear', 'rbf', 'poly'],\n",
        "}\n",
        "grid_search = GridSearchCV(estimator=svm_model, param_grid=param_grid, cv=5, scoring=make_scorer(f1_score))\n",
        "grid_search.fit(X_train, y_train)\n",
        "best_params = grid_search.best_params_\n",
        "best_model = grid_search.best_estimator_\n",
        "y_pred = best_model.predict(X_test)\n",
        "accuracy = accuracy_score(y_test, y_pred)\n",
        "print(\"Best Model Accuracy:\", accuracy)```\n",
        "\n",
        "xxk'\n"
      ]
    },
    {
      "cell_type": "markdown",
      "metadata": {},
      "source": [
        "The accuracy of the model is 95% and on the basis of random testing, the accuracy consistently stays above 93%. The SVM model trued using RBF, Linear and Polynomial Kernels and was optimised using GridSearchCV. The data splits are as follows: Constituency_Type, Turncoat, \n",
        "Incumbent, Recontest, ctype (candidate being SC/ST/GEN), sex, region which will predict the outcome- ie whether  candidate is likely to win or not. "
      ]
    }
  ],
  "metadata": {
    "colab": {
      "provenance": [],
      "toc_visible": true
    },
    "kernelspec": {
      "display_name": "Python 3",
      "name": "python3"
    },
    "language_info": {
      "codemirror_mode": {
        "name": "ipython",
        "version": 3
      },
      "file_extension": ".py",
      "mimetype": "text/x-python",
      "name": "python",
      "nbconvert_exporter": "python",
      "pygments_lexer": "ipython3",
      "version": "3.10.7"
    }
  },
  "nbformat": 4,
  "nbformat_minor": 0
}
